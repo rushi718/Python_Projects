{
 "cells": [
  {
   "cell_type": "markdown",
   "metadata": {},
   "source": [
    "# Instagram Scrapping"
   ]
  },
  {
   "cell_type": "code",
   "execution_count": null,
   "metadata": {},
   "outputs": [],
   "source": [
    "pip install instaloader"
   ]
  },
  {
   "cell_type": "code",
   "execution_count": 2,
   "metadata": {},
   "outputs": [],
   "source": [
    "import instaloader"
   ]
  },
  {
   "cell_type": "code",
   "execution_count": 5,
   "metadata": {},
   "outputs": [
    {
     "name": "stdout",
     "output_type": "stream",
     "text": [
      "<class 'instaloader.structures.Profile'>\n"
     ]
    }
   ],
   "source": [
    "# Create an instance of Instaloader class\n",
    "bot = instaloader.Instaloader()\n",
    "\n",
    "# Load a profile from an Instagram handle\n",
    "profile = instaloader.Profile.from_username(bot.context, 'rushikesh_718')\n",
    "\n",
    "print(type(profile))"
   ]
  },
  {
   "cell_type": "code",
   "execution_count": 4,
   "metadata": {},
   "outputs": [
    {
     "name": "stdout",
     "output_type": "stream",
     "text": [
      "Username:  rushikesh_718\n",
      "User ID:  5674813597\n",
      "Number of Posts:  9\n",
      "Followers:  304\n",
      "Followees:  390\n",
      "Bio:  🎂7 oct...\n",
      "📚iiitian...📚\n",
      " MH 20 ➡pune\n",
      "Sports#cricket🏏 None\n"
     ]
    }
   ],
   "source": [
    "print(\"Username: \", profile.username)\n",
    "print(\"User ID: \", profile.userid)\n",
    "print(\"Number of Posts: \", profile.mediacount)\n",
    "print(\"Followers: \", profile.followers)\n",
    "print(\"Followees: \", profile.followees)\n",
    "print(\"Bio: \", profile.biography,profile.external_url)"
   ]
  },
  {
   "cell_type": "code",
   "execution_count": null,
   "metadata": {},
   "outputs": [],
   "source": [
    "# Login with username and password in the script\n",
    "bot.login(user=\"your_username\",passwd=\"your_password\")\n",
    "\n",
    "# Interactive login on terminal\n",
    "bot.interactive_login(\"your_username\") # Asks for password in the terminal"
   ]
  },
  {
   "cell_type": "code",
   "execution_count": null,
   "metadata": {},
   "outputs": [],
   "source": [
    "# Retrieve the usernames of all followers\n",
    "followers = [follower.username for follower in profile.get_followers()]\n",
    "\n",
    "# Retrieve the usernames of all followees\n",
    "followees = [followee.username for followee in profile.get_followees()]\n",
    "print(followers[:10])"
   ]
  },
  {
   "cell_type": "code",
   "execution_count": 6,
   "metadata": {},
   "outputs": [],
   "source": [
    "# Load a new profile\n",
    "profile = instaloader.Profile.from_username(bot.context, 'your_username')\n",
    "\n",
    "# Get all posts in a generator object\n",
    "posts = profile.get_posts()\n",
    "\n",
    "# Iterate and download\n",
    "for index, post in enumerate(posts, 1):\n",
    "    bot.download_post(post, target=f\"{profile.username}_{index}\")"
   ]
  },
  {
   "cell_type": "code",
   "execution_count": null,
   "metadata": {},
   "outputs": [],
   "source": []
  }
 ],
 "metadata": {
  "kernelspec": {
   "display_name": "Python 3",
   "language": "python",
   "name": "python3"
  }
 },
 "nbformat": 4,
 "nbformat_minor": 4
}
